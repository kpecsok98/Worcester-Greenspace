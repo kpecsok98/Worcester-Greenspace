{
  "nbformat": 4,
  "nbformat_minor": 0,
  "metadata": {
    "colab": {
      "name": "Worcester_GreenSpace_code.ipynb",
      "provenance": [],
      "collapsed_sections": [],
      "authorship_tag": "ABX9TyOc2xI4isy0cFc1yKYM8V6S",
      "include_colab_link": true
    },
    "kernelspec": {
      "name": "python3",
      "display_name": "Python 3"
    }
  },
  "cells": [
    {
      "cell_type": "markdown",
      "metadata": {
        "id": "view-in-github",
        "colab_type": "text"
      },
      "source": [
        "<a href=\"https://colab.research.google.com/github/kpecsok98/Worcester-Greenspace/blob/main/Worcester_GreenSpace_code.ipynb\" target=\"_parent\"><img src=\"https://colab.research.google.com/assets/colab-badge.svg\" alt=\"Open In Colab\"/></a>"
      ]
    },
    {
      "cell_type": "code",
      "metadata": {
        "id": "l-JG95CVyPhp"
      },
      "source": [
        "# Add the needed packages to colab environment\n",
        "!pip install geopandas\n",
        "!apt-get install -y libspatialindex-dev\n",
        "!pip install rtree\n",
        "\n",
        "# Import the needed packages once they're installed\n",
        "import pandas as pd # an interface is provided through this library to interact with tabular data\n",
        "import geopandas as gpd # combines panda's capabilities with those of shapely to perform geospatial operations\n",
        "import rtree # needed for doing the geometric operations with geopandas \n",
        "from shapely.geometry import Point, Polygon, MultiPolygon  # manipulates text data into geospatial shapes\n",
        "from shapely import wkt  # stands for \"well known text,\" allows for the interchange of data across GIS programs"
      ],
      "execution_count": null,
      "outputs": []
    },
    {
      "cell_type": "code",
      "metadata": {
        "id": "Lp_CtJMOzJJ7"
      },
      "source": [
        "from google.colab import drive\n",
        "drive.mount('/content/gdrive') # connects Colab to your Google Drive\n",
        "root_path = 'gdrive/My Drive/Worcester_EJ_GreenSpace/' # set root path to folder where you uploaded the data"
      ],
      "execution_count": null,
      "outputs": []
    },
    {
      "cell_type": "code",
      "metadata": {
        "id": "LnWftY5fzm2b"
      },
      "source": [
        "# Import shapefiles\n",
        "environmentaljustice = gpd.read_file(root_path+'input/EJ_POLY.shp') # Shapefile of Massachusetts Environmental Justice CBGs\n",
        "greenspace = gpd.read_file(root_path+'input/OPENSPACE_POLY.shp') # Shapefile of Massachusetts open space areas \n",
        "towns = gpd.read_file(root_path+'input/CENSUS2010TOWNS_POLY.shp') # Shapefile of Massachusetts towns\n",
        "tree_cover = gpd.read_file(root_path+'input/UTCWooManualEdits_20150907_AElmes.shp') # You will not import this shapefile for the tutorial"
      ],
      "execution_count": 3,
      "outputs": []
    },
    {
      "cell_type": "code",
      "metadata": {
        "id": "HG79SnFmH7yg"
      },
      "source": [
        "# Check the Coordinate Reference System of environmentaljustice\n",
        "environmentaljustice.crs"
      ],
      "execution_count": null,
      "outputs": []
    },
    {
      "cell_type": "code",
      "metadata": {
        "id": "R8ONHrZBIBO3"
      },
      "source": [
        "greenspace.crs"
      ],
      "execution_count": null,
      "outputs": []
    },
    {
      "cell_type": "code",
      "metadata": {
        "id": "7zw-O33QIDQT"
      },
      "source": [
        "towns.crs"
      ],
      "execution_count": null,
      "outputs": []
    },
    {
      "cell_type": "code",
      "metadata": {
        "id": "bQOCJWvVIGhu"
      },
      "source": [
        "tree_cover.crs"
      ],
      "execution_count": null,
      "outputs": []
    },
    {
      "cell_type": "code",
      "metadata": {
        "id": "KXBDXTmJ01pk"
      },
      "source": [
        "# Project environmentaljustice to the WGS 1984 CRS\n",
        "environmentaljustice = environmentaljustice.to_crs(\"EPSG:4326\")"
      ],
      "execution_count": 8,
      "outputs": []
    },
    {
      "cell_type": "code",
      "metadata": {
        "id": "fDZZ6Lmk34fE"
      },
      "source": [
        "# Project greenspace to the WGS 1984 CRS\n",
        "greenspace = greenspace.to_crs(\"EPSG:4326\")"
      ],
      "execution_count": 9,
      "outputs": []
    },
    {
      "cell_type": "code",
      "metadata": {
        "id": "wuBk8Bok5H0W"
      },
      "source": [
        "# Project towns to the WGS 1984 CRS\n",
        "towns = towns.to_crs(\"EPSG:4326\")"
      ],
      "execution_count": 10,
      "outputs": []
    },
    {
      "cell_type": "code",
      "metadata": {
        "id": "tZXhEMVB5bPI"
      },
      "source": [
        "# Project tree_cover to the WGS 1984 CRS\n",
        "tree_cover = tree_cover.to_crs(\"EPSG:4326\")"
      ],
      "execution_count": 11,
      "outputs": []
    },
    {
      "cell_type": "code",
      "metadata": {
        "id": "lEy2B1WocTxy"
      },
      "source": [
        "# Check the new Coordinate Reference System of environmentaljustice\n",
        "environmentaljustice.crs"
      ],
      "execution_count": null,
      "outputs": []
    },
    {
      "cell_type": "code",
      "metadata": {
        "id": "1pNaVPckcWTk"
      },
      "source": [
        "# Check the new Coordinate Reference System of greenspace\n",
        "greenspace.crs"
      ],
      "execution_count": null,
      "outputs": []
    },
    {
      "cell_type": "code",
      "metadata": {
        "id": "TWjILX2Oc6k4"
      },
      "source": [
        "# Check the new Coordinate Reference System of towns\n",
        "towns.crs"
      ],
      "execution_count": null,
      "outputs": []
    },
    {
      "cell_type": "code",
      "metadata": {
        "id": "cjyG8ovBU9xc"
      },
      "source": [
        "# Check the new Coordinate Reference System to tree_cover\n",
        "tree_cover.crs"
      ],
      "execution_count": null,
      "outputs": []
    },
    {
      "cell_type": "code",
      "metadata": {
        "id": "070kepC46CyZ"
      },
      "source": [
        "# From Massachusetts towns file select by attribute to get Worcester\n",
        "Worcester = towns[towns['TOWN']==\"WORCESTER\"] # Within TOWN column of attribute table select WORCESTER"
      ],
      "execution_count": 16,
      "outputs": []
    },
    {
      "cell_type": "code",
      "metadata": {
        "id": "QnG9YVqeVkbw"
      },
      "source": [
        "# Check data of 1 row of Worcester \n",
        "Worcester.sample(1)"
      ],
      "execution_count": null,
      "outputs": []
    },
    {
      "cell_type": "code",
      "metadata": {
        "id": "a2BEA5RcVzsL"
      },
      "source": [
        "# Check data of 2 rows of Worcester\n",
        "Worcester.sample(2)"
      ],
      "execution_count": null,
      "outputs": []
    },
    {
      "cell_type": "code",
      "metadata": {
        "id": "39-iKGJUVQbk"
      },
      "source": [
        "# Create a map of Worcester\n",
        "Worcester.plot(column='TOWN', color='grey', figsize=(16,8));"
      ],
      "execution_count": null,
      "outputs": []
    },
    {
      "cell_type": "code",
      "metadata": {
        "id": "Ua9BoMEP9KKD"
      },
      "source": [
        "# From Environmental Justice Block group file select by attribute to get Worcester\n",
        "Worcester_EJ = environmentaljustice[environmentaljustice['TOWN']== \"WORCESTER\"] # Within TOWN column of attribute table select WORCESTER"
      ],
      "execution_count": 21,
      "outputs": []
    },
    {
      "cell_type": "code",
      "metadata": {
        "id": "4uuaF74cgccH"
      },
      "source": [
        "# Create a map of Worcester Environmental Justice CBGs\n",
        "Worcester_EJ.plot(column='TOWN', color='grey', figsize=(16,8));"
      ],
      "execution_count": null,
      "outputs": []
    },
    {
      "cell_type": "code",
      "metadata": {
        "id": "m9KJuA1L8_B-"
      },
      "source": [
        "# From Worcester Environmental Justice Block Group file select by attribute to select Block Groups with all three criteria.\n",
        "Worcester_EJ_all = Worcester_EJ[Worcester_EJ['CRIT_CNT']==3] # Within CRIT_CNT column of attribute select block groups with a value of 3."
      ],
      "execution_count": 23,
      "outputs": []
    },
    {
      "cell_type": "code",
      "metadata": {
        "id": "KcI1J_iDi5bn"
      },
      "source": [
        "# Create a map of Worcester Environmental Justice CBGs that fulfill all criteria\n",
        "Worcester_EJ_all.plot(column='TOWN', color='grey', figsize=(16,8));"
      ],
      "execution_count": null,
      "outputs": []
    },
    {
      "cell_type": "code",
      "metadata": {
        "id": "kGlWqCKjFXz1"
      },
      "source": [
        "# From Worcester Environmental Justiec Block Group file select by attribute to select Block Groups with all three criteria.\n",
        "Worcester_EJ_some = Worcester_EJ[Worcester_EJ['CRIT_CNT']<3] # Within CRIT_CNT column of attribute select block groups with a value less than 3."
      ],
      "execution_count": 25,
      "outputs": []
    },
    {
      "cell_type": "code",
      "metadata": {
        "id": "TPubs6UTjnH2"
      },
      "source": [
        "# Create a map of Worcester Environmental Justice CBGs that fulfill some criteria\n",
        "Worcester_EJ_some.plot(column='TOWN', color='grey', figsize=(16,8));"
      ],
      "execution_count": null,
      "outputs": []
    },
    {
      "cell_type": "code",
      "metadata": {
        "id": "rsLOI77hE-uU"
      },
      "source": [
        "# Clip greenspace within Worcester\n",
        "Worcester_greenspace = gpd.clip(greenspace, Worcester)"
      ],
      "execution_count": 27,
      "outputs": []
    },
    {
      "cell_type": "code",
      "metadata": {
        "id": "aDZpcB2KkqZV"
      },
      "source": [
        "# Create a map of Worcester greenspace\n",
        "Worcester_greenspace.plot(column='TOWN_ID', color='grey', figsize=(16,8));"
      ],
      "execution_count": null,
      "outputs": []
    },
    {
      "cell_type": "code",
      "metadata": {
        "id": "LfLCeFoOFzQL"
      },
      "source": [
        "# Clip the Worcester greenspace file within the Worcester Environmental Justice block groups with all criteria file\n",
        "Worcester_EJ_all_greenspace = gpd.clip(Worcester_greenspace, Worcester_EJ_all)"
      ],
      "execution_count": 31,
      "outputs": []
    },
    {
      "cell_type": "code",
      "metadata": {
        "id": "x-ZMAs4amSpd"
      },
      "source": [
        "# Create a map of Worcester greenspace that's within Environmental Justice block groups with all criteria\n",
        "Worcester_EJ_all_greenspace.plot(column='TOWN_ID', color='grey', figsize=(16,8));"
      ],
      "execution_count": null,
      "outputs": []
    },
    {
      "cell_type": "code",
      "metadata": {
        "id": "4mi5cMCKGtaM"
      },
      "source": [
        "# Clip the Worcester greenspace file within the Worcester Environmental Justice block groups with some criteria file\n",
        "Worcester_EJ_some_greenspace = gpd.clip(Worcester_greenspace, Worcester_EJ_some)"
      ],
      "execution_count": 33,
      "outputs": []
    },
    {
      "cell_type": "code",
      "metadata": {
        "id": "yHK3jQe2nZoH"
      },
      "source": [
        "# Create a map of Worcester greenspace that's within Environmental Justice block groups with some criteria\n",
        "Worcester_EJ_some_greenspace.plot(column='TOWN_ID', color='grey', figsize=(16,8));"
      ],
      "execution_count": null,
      "outputs": []
    },
    {
      "cell_type": "code",
      "metadata": {
        "id": "7b7B3lJPHLmj"
      },
      "source": [
        "# Erase Worcester greenspace geodataframe within areas that Worcester Environmental Justice block groups are in\n",
        "Worcester_greenspace_NonEJ = gpd.overlay(Worcester_greenspace, Worcester_EJ, how = 'difference')"
      ],
      "execution_count": 35,
      "outputs": []
    },
    {
      "cell_type": "code",
      "metadata": {
        "id": "yt71SRiyn4Uo"
      },
      "source": [
        "# Create a map of Worcester greenspace that's not within an Environmental Justice block group\n",
        "Worcester_greenspace_NonEJ.plot(column='TOWN_ID', color='grey', figsize=(16,8));"
      ],
      "execution_count": null,
      "outputs": []
    },
    {
      "cell_type": "code",
      "metadata": {
        "colab": {
          "base_uri": "https://localhost:8080/",
          "height": 35
        },
        "id": "G_eexi1fFOin",
        "outputId": "f35afef4-9d29-4ecb-fcd3-96751bf534b2"
      },
      "source": [
        "# Code to clip Worcester treecover within Worcester Environmental Justice Block Groups\n",
        "'''\n",
        "Worcester_EJ_treecover = gpd.clip(tree_cover, Worcester_EJ)\n",
        "'''"
      ],
      "execution_count": null,
      "outputs": [
        {
          "output_type": "execute_result",
          "data": {
            "application/vnd.google.colaboratory.intrinsic+json": {
              "type": "string"
            },
            "text/plain": [
              "'\\nWorcester_EJ_treecover = gpd.clip(tree_cover, Worcester_EJ)\\n'"
            ]
          },
          "metadata": {
            "tags": []
          },
          "execution_count": 55
        }
      ]
    },
    {
      "cell_type": "code",
      "metadata": {
        "id": "lgc9sZnVJCI6"
      },
      "source": [
        "# Code to clip treecover within the Worcester Environmental Justice block groups file\n",
        "'''\n",
        "Worcester_EJ_all_treecover = gpd.clip(Worcester_treecover, Worcester_EJ_all)\n",
        "'''"
      ],
      "execution_count": null,
      "outputs": []
    },
    {
      "cell_type": "code",
      "metadata": {
        "id": "J2zEY25yJg5E"
      },
      "source": [
        "# Code to clip Worcester treecover within the Worcester Environmental Justice block groups with some criteria file\n",
        "'''\n",
        "Worcester_EJ_some_treecover = gpd.clip(Worcester_treecover, Worcester_EJ_some)\n",
        "'''"
      ],
      "execution_count": null,
      "outputs": []
    },
    {
      "cell_type": "code",
      "metadata": {
        "id": "gk9gbl3fKBrK"
      },
      "source": [
        "# Code to erase Worcester treecover data that are within the Environmeantl Justice block groups.\n",
        "'''\n",
        "Worcester_treecover_NonEJ = gpd.overlay(Worcester_greenspace, Worcester_EJ, how = 'difference')\n",
        "'''"
      ],
      "execution_count": null,
      "outputs": []
    },
    {
      "cell_type": "code",
      "metadata": {
        "id": "LdjbtYJ3sm-K"
      },
      "source": [
        "Worcester.to_file('Worcester.shp') # Shapefile of Worcester\n",
        "Worcester_EJ_all_greenspace.to_file('Worcester_EJ_all_greenspace.shp') # Shapefile of greenspace that lies within Worcester EJ  CBGs that fulfill all criteria\n",
        "Worcester_EJ_some_greenspace.to_file('Worcester_EJ_some_greenspace.shp') # Shapefile of greenspace that lies within Worcester EJ CBGs that fulfill some criteria\n",
        "Worcester_greenspace_NonEJ.to_file('Worcester_greenspace_NonEJ.shp') # Shapefile of greenspace that doesn't lie within Worcester EJ CBGs\n",
        "Worcester_EJ_all.to_file('Worcester_EJ_all.shp') # Shapefile of Worcester EJ CBGs that fulfill all criteria\n",
        "Worcester_EJ_some.to_file('Worcester_EJ_some.shp') # Shapefile of Worcester EJ CBGs that fulfill some criteria\n",
        "tree_cover.to_file('tree_cover.shp') # Shapefile of Worcester treecover"
      ],
      "execution_count": null,
      "outputs": []
    },
    {
      "cell_type": "code",
      "metadata": {
        "id": "39RtxO5tS_fQ"
      },
      "source": [
        "# Copy components of shapefile to Google Drive\n",
        "!cp Worcester.cpg 'gdrive/My Drive/Worcester_EJ_GreenSpace/Worcester'\n",
        "!cp Worcester.dbf 'gdrive/My Drive/Worcester_EJ_GreenSpace/Worcester'\n",
        "!cp Worcester.prj 'gdrive/My Drive/Worcester_EJ_GreenSpace/Worcester'\n",
        "!cp Worcester.shp 'gdrive/My Drive/Worcester_EJ_GreenSpace/Worcester'\n",
        "!cp Worcester.shx 'gdrive/My Drive/Worcester_EJ_GreenSpace/Worcester'"
      ],
      "execution_count": null,
      "outputs": []
    },
    {
      "cell_type": "code",
      "metadata": {
        "id": "qqF7zTHBdRCA"
      },
      "source": [
        "# Copy components of shapefile to Google Drive\n",
        "!cp Worcester_EJ_all.cpg 'gdrive/My Drive/Worcester_EJ_GreenSpace/Worcester_EJ_all'\n",
        "!cp Worcester_EJ_all.dbf 'gdrive/My Drive/Worcester_EJ_GreenSpace/Worcester_EJ_all'\n",
        "!cp Worcester_EJ_all.prj 'gdrive/My Drive/Worcester_EJ_GreenSpace/Worcester_EJ_all'\n",
        "!cp Worcester_EJ_all.shp 'gdrive/My Drive/Worcester_EJ_GreenSpace/Worcester_EJ_all'\n",
        "!cp Worcester_EJ_all.shx 'gdrive/My Drive/Worcester_EJ_GreenSpace/Worcester_EJ_all'"
      ],
      "execution_count": null,
      "outputs": []
    },
    {
      "cell_type": "code",
      "metadata": {
        "id": "AbmX7NredaVv"
      },
      "source": [
        "# Copy components of shapefile to Google Drive\n",
        "!cp Worcester_EJ_all_greenspace.cpg 'gdrive/My Drive/Worcester_EJ_GreenSpacel/Worcester_EJ_all_greenspace'\n",
        "!cp Worcester_EJ_all_greenspace.dbf 'gdrive/My Drive/Worcester_EJ_GreenSpace/Worcester_EJ_all_greenspace'\n",
        "!cp Worcester_EJ_all_greenspace.prj 'gdrive/My Drive/Worcester_EJ_GreenSpace/Worcester_EJ_all_greenspace'\n",
        "!cp Worcester_EJ_all_greenspace.shp 'gdrive/My Drive/Worcester_EJ_GreenSpace/Worcester_EJ_all_greenspace'\n",
        "!cp Worcester_EJ_all_greenspace.shx 'gdrive/My Drive/Worcester_EJ_GreenSpace/Worcester_EJ_all_greenspace'"
      ],
      "execution_count": null,
      "outputs": []
    },
    {
      "cell_type": "code",
      "metadata": {
        "id": "x5fMh3q1dxz2"
      },
      "source": [
        "# Copy components of shapefile to Google Drive\n",
        "!cp Worcester_EJ_some_greenspace.cpg 'gdrive/My Drive/Worcester_EJ_GreenSpace/Worcester_EJ_some_greenspace'\n",
        "!cp Worcester_EJ_some_greenspace.dbf 'gdrive/My Drive/Worcester_EJ_GreenSpace/Worcester_EJ_some_greenspace'\n",
        "!cp Worcester_EJ_some_greenspace.prj 'gdrive/My Drive/Worcester_EJ_GreenSpace/Worcester_EJ_some_greenspace'\n",
        "!cp Worcester_EJ_some_greenspace.shp 'gdrive/My Drive/Worcester_EJ_GreenSpace/Worcester_EJ_some_greenspace'\n",
        "!cp Worcester_EJ_some_greenspace.shx 'gdrive/My Drive/Worcester_EJ_GreenSpace/Worcester_EJ_some_greenspace'"
      ],
      "execution_count": null,
      "outputs": []
    },
    {
      "cell_type": "code",
      "metadata": {
        "id": "q9S915WneAnl"
      },
      "source": [
        "# Copy components of shapefile to Google Drive\n",
        "!cp Worcester_EJ_some.cpg 'gdrive/My Drive/Worcester_EJ_GreenSpacel/Worcester_EJ_some'\n",
        "!cp Worcester_EJ_some.dbf 'gdrive/My Drive/Worcester_EJ_GreenSpace/Worcester_EJ_some'\n",
        "!cp Worcester_EJ_some.prj 'gdrive/My Drive/Worcester_EJ_GreenSpace/Worcester_EJ_some'\n",
        "!cp Worcester_EJ_some.shp 'gdrive/My Drive/Worcester_EJ_GreenSpace/Worcester_EJ_some'\n",
        "!cp Worcester_EJ_some.shx 'gdrive/My Drive/Worcester_EJ_GreenSpace/Worcester_EJ_some'"
      ],
      "execution_count": null,
      "outputs": []
    },
    {
      "cell_type": "code",
      "metadata": {
        "id": "VB3WmtryeTaQ"
      },
      "source": [
        "# Copy components of shapefile to Google Drive\n",
        "!cp Worcester_greenspace_NonEJ.cpg 'gdrive/My Drive/Worcester_EJ_GreenSpace/Worcester_greenspace_NonEJ'\n",
        "!cp Worcester_greenspace_NonEJ.dbf 'gdrive/My Drive/Worcester_EJ_GreenSpace/Worcester_greenspace_NonEJ'\n",
        "!cp Worcester_greenspace_NonEJ.prj 'gdrive/My Drive/Worcester_EJ_GreenSpace/Worcester_greenspace_NonEJ'\n",
        "!cp Worcester_greenspace_NonEJ.shp 'gdrive/My Drive/Worcester_EJ_GreenSpace/Worcester_greenspace_NonEJ'\n",
        "!cp Worcester_greenspace_NonEJ.shx 'gdrive/My Drive/Worcester_EJ_GreenSpace/Worcester_greenspace_NonEJ'"
      ],
      "execution_count": null,
      "outputs": []
    },
    {
      "cell_type": "code",
      "metadata": {
        "id": "KvMpTm4UemZH"
      },
      "source": [
        "# Copy components of shapefile to Google Drive\n",
        "!cp tree_cover.cpg 'gdrive/My Drive/Worcester_EJ_GreenSpace/tree_cover'\n",
        "!cp tree_cover.dbf 'gdrive/My Drive/Worcester_EJ_GreenSpace/tree_cover'\n",
        "!cp tree_cover.prj 'gdrive/My Drive/Worcester_EJ_GreenSpace/tree_cover'\n",
        "!cp tree_cover.shp 'gdrive/My Drive/Worcester_EJ_GreenSpace/tree_cover'\n",
        "!cp tree_cover.shx 'gdrive/My Drive/Worcester_EJ_GreenSpace/tree_cover'"
      ],
      "execution_count": null,
      "outputs": []
    }
  ]
}